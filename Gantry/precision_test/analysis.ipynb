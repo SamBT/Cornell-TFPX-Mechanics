{
 "cells": [
  {
   "cell_type": "code",
   "execution_count": 1,
   "metadata": {},
   "outputs": [],
   "source": [
    "import numpy as np"
   ]
  },
  {
   "cell_type": "code",
   "execution_count": 7,
   "metadata": {},
   "outputs": [],
   "source": [
    "s100 = np.genfromtxt('precision_test_x350_y350_speed100.csv',delimiter=',')\n",
    "s50 = np.genfromtxt('precision_test_x350_y350_speed50.csv',delimiter=',')"
   ]
  },
  {
   "cell_type": "code",
   "execution_count": 10,
   "metadata": {},
   "outputs": [],
   "source": [
    "x_mean_50 = np.mean(s50[0])\n",
    "x_sd_50 = np.std(s50[0])\n",
    "y_mean_50 = np.mean(s50[1])\n",
    "y_sd_50 = np.std(s50[1])\n",
    "\n",
    "x_mean_100 = np.mean(s100[0])\n",
    "x_sd_100 = np.std(s100[0])\n",
    "y_mean_100 = np.mean(s100[1])\n",
    "y_sd_100 = np.std(s100[1])"
   ]
  },
  {
   "cell_type": "code",
   "execution_count": 11,
   "metadata": {},
   "outputs": [
    {
     "name": "stdout",
     "output_type": "stream",
     "text": [
      "Speed 50:\n",
      "x_mean = 349.9997, x_sd = 0.0074\n",
      "y_mean = 349.9996, y_sd = 0.0048\n",
      "-----------------------------------------------------\n",
      "Speed 100:\n",
      "x_mean = 349.9998, x_sd = 0.0040\n",
      "y_mean = 350.0000, y_sd = 0.0043\n"
     ]
    }
   ],
   "source": [
    "print(\"Speed 50:\")\n",
    "print(\"x_mean = {0:.4f}, x_sd = {1:.4f}\".format(x_mean_50,x_sd_50))\n",
    "print(\"y_mean = {0:.4f}, y_sd = {1:.4f}\".format(y_mean_50,y_sd_50))\n",
    "print(\"-----------------------------------------------------\")\n",
    "print(\"Speed 100:\")\n",
    "print(\"x_mean = {0:.4f}, x_sd = {1:.4f}\".format(x_mean_100,x_sd_100))\n",
    "print(\"y_mean = {0:.4f}, y_sd = {1:.4f}\".format(y_mean_100,y_sd_100))"
   ]
  },
  {
   "cell_type": "code",
   "execution_count": null,
   "metadata": {},
   "outputs": [],
   "source": []
  }
 ],
 "metadata": {
  "kernelspec": {
   "display_name": "Python 3",
   "language": "python",
   "name": "python3"
  },
  "language_info": {
   "codemirror_mode": {
    "name": "ipython",
    "version": 3
   },
   "file_extension": ".py",
   "mimetype": "text/x-python",
   "name": "python",
   "nbconvert_exporter": "python",
   "pygments_lexer": "ipython3",
   "version": "3.6.10"
  }
 },
 "nbformat": 4,
 "nbformat_minor": 4
}
