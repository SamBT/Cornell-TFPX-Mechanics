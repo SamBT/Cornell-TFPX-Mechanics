{
 "cells": [
  {
   "cell_type": "code",
   "execution_count": 9,
   "id": "0e3de30c",
   "metadata": {},
   "outputs": [],
   "source": [
    "import numpy as np"
   ]
  },
  {
   "cell_type": "code",
   "execution_count": 21,
   "id": "279dcf48",
   "metadata": {},
   "outputs": [],
   "source": [
    "moves = [\"G1\",\"G2\",\"G3\"]\n",
    "\n",
    "def extract_coords_2d(cmd):\n",
    "    words = cmd.split(\" \")\n",
    "    x,y = None, None\n",
    "    for w in words:\n",
    "        if words[0] in moves:\n",
    "            if \"X\" in w:\n",
    "                x = float(w[1:])\n",
    "            if \"Y\" in w:\n",
    "                y = float(w[1:])\n",
    "    return [x,y]"
   ]
  },
  {
   "cell_type": "code",
   "execution_count": 22,
   "id": "1c81ce0e",
   "metadata": {},
   "outputs": [],
   "source": [
    "f = open(\"gcode/tube_path_explicit.pgm\",\"r\")\n",
    "lines = f.read().splitlines()\n",
    "f.close()\n",
    "commands = [l.split(\" \")[0] for l in lines]\n",
    "coords = [extract_coords_2d(l) for l in lines]\n",
    "for i, c in enumerate(coords):\n",
    "    #need to fill in moves where one coord not specified (single direction)\n",
    "    x = c[0]\n",
    "    y = c[1]\n",
    "    if x == None and y == None:\n",
    "        continue\n",
    "    elif x != None and y == None:\n",
    "        coords[i][1] = coords[i-1][1]\n",
    "    elif x == None and y != None:\n",
    "        coords[i][0] = coords[i-1][0]\n",
    "    else:\n",
    "        continue\n",
    "moves = []\n"
   ]
  },
  {
   "cell_type": "code",
   "execution_count": 18,
   "id": "4e064624",
   "metadata": {},
   "outputs": [
    {
     "data": {
      "text/plain": [
       "['G90',\n",
       " 'ENABLE',\n",
       " 'G16',\n",
       " 'G17',\n",
       " 'G1',\n",
       " 'G1',\n",
       " 'G1',\n",
       " 'G2',\n",
       " 'G1',\n",
       " 'G2',\n",
       " 'G2',\n",
       " 'G1',\n",
       " 'G3',\n",
       " 'G3',\n",
       " 'G1',\n",
       " 'G3',\n",
       " 'G3',\n",
       " 'G1',\n",
       " 'G2',\n",
       " 'G2',\n",
       " 'G1',\n",
       " 'G3',\n",
       " 'G3',\n",
       " 'G1',\n",
       " 'G3',\n",
       " 'G3',\n",
       " 'G1',\n",
       " 'G2',\n",
       " 'G2',\n",
       " 'G1',\n",
       " 'G3',\n",
       " 'G3',\n",
       " 'G1',\n",
       " 'G3',\n",
       " 'G3',\n",
       " 'G1',\n",
       " 'G3',\n",
       " 'G2',\n",
       " 'G2',\n",
       " 'G3',\n",
       " 'G1',\n",
       " 'G3',\n",
       " 'G3',\n",
       " 'G1',\n",
       " 'G3',\n",
       " 'G3',\n",
       " 'G1',\n",
       " 'G2',\n",
       " 'G2',\n",
       " 'G1',\n",
       " 'G3',\n",
       " 'G3',\n",
       " 'G1',\n",
       " 'G3',\n",
       " 'G3',\n",
       " 'G1',\n",
       " 'G2',\n",
       " 'G2',\n",
       " 'G1',\n",
       " 'G3',\n",
       " 'G3',\n",
       " 'G1',\n",
       " 'G3',\n",
       " 'G3',\n",
       " 'G1',\n",
       " 'G2',\n",
       " 'G2',\n",
       " 'G1',\n",
       " 'G2',\n",
       " 'G1',\n",
       " 'G1',\n",
       " 'DISABLE']"
      ]
     },
     "execution_count": 18,
     "metadata": {},
     "output_type": "execute_result"
    }
   ],
   "source": [
    "pre = [\"G91\",\"ENABLE X Y\",\"G16 X Y Z\",\"G17\"]\n",
    "post = [\"DISABLE X Y\"]\n",
    "f = open(\"gcode/tube_path_moves_only.pgm\",\"w\")\n",
    "for i,l in enumerate(lines):\n",
    "    this, prev = commands[i], commands[i-1]\n",
    "    xcurr,ycurr = coords[i]\n",
    "    xprev,yprev = coords[i-1]\n",
    "    if this in moves and prev in moves:\n",
    "        if xcurr \n",
    "    else:\n",
    "        if this == \"G90\":\n",
    "            this == \"\""
   ]
  },
  {
   "cell_type": "code",
   "execution_count": null,
   "id": "a782f2d2",
   "metadata": {},
   "outputs": [],
   "source": []
  }
 ],
 "metadata": {
  "kernelspec": {
   "display_name": "Python 3",
   "language": "python",
   "name": "python3"
  },
  "language_info": {
   "codemirror_mode": {
    "name": "ipython",
    "version": 3
   },
   "file_extension": ".py",
   "mimetype": "text/x-python",
   "name": "python",
   "nbconvert_exporter": "python",
   "pygments_lexer": "ipython3",
   "version": "3.6.13"
  }
 },
 "nbformat": 4,
 "nbformat_minor": 5
}
