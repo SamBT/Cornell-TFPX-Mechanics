{
 "cells": [
  {
   "cell_type": "code",
   "execution_count": 9,
   "id": "0d9998b7",
   "metadata": {},
   "outputs": [],
   "source": [
    "import numpy as np"
   ]
  },
  {
   "cell_type": "code",
   "execution_count": 59,
   "id": "45fd76ba",
   "metadata": {},
   "outputs": [],
   "source": [
    "moves = [\"G1\",\"G2\",\"G3\"]\n",
    "\n",
    "def extract_coords_2d(cmd):\n",
    "    words = cmd.split(\" \")\n",
    "    x,y = None, None\n",
    "    for w in words:\n",
    "        if words[0] in moves:\n",
    "            if \"X\" in w:\n",
    "                x = float(w[1:])\n",
    "            if \"Y\" in w:\n",
    "                y = float(w[1:])\n",
    "    return (x,y)\n",
    "\n",
    "def extract_rotation_centers(cmd):\n",
    "    words = cmd.split(\" \")\n",
    "    i,j = 0, 0\n",
    "    for w in words:\n",
    "        if words[0] in moves:\n",
    "            if \"I\" in w:\n",
    "                i = float(w[1:])\n",
    "            if \"J\" in w:\n",
    "                j = float(w[1:])\n",
    "    return (i,j)"
   ]
  },
  {
   "cell_type": "code",
   "execution_count": 31,
   "id": "b71ead44",
   "metadata": {},
   "outputs": [],
   "source": [
    "f = open(\"gcode/tube_path_explicit.pgm\",\"r\")\n",
    "lines = f.read().splitlines()\n",
    "f.close()\n",
    "\n",
    "mvt_lines = []\n",
    "commands = []\n",
    "coords = []\n",
    "rot_centers = []\n",
    "for l in lines:\n",
    "    cmd = l.split(\" \")[0]\n",
    "    if cmd not in moves:\n",
    "        continue\n",
    "    commands.append(cmd)\n",
    "    mvt_lines.append(l)\n",
    "    x,y = extract_coords_2d(l)\n",
    "    if x == None and y != None:\n",
    "        x = coords[-1][0]\n",
    "    if x != None and y == None:\n",
    "        y = coords[-1][1]\n",
    "    coords.append([x,y])\n",
    "    i,j = extract_rotation_centers(l)\n",
    "    rot_centers.append([i,j])"
   ]
  },
  {
   "cell_type": "code",
   "execution_count": 47,
   "id": "f0921e41",
   "metadata": {},
   "outputs": [],
   "source": [
    "output = [\"G91\",\"ENABLE X Y\",\"G16 X Y Z\",\"G17\"]\n",
    "for k in range(1,len(mvt_lines)):\n",
    "    l = mvt_lines[k]\n",
    "    cmd = commands[k]\n",
    "    dx = coords[k][0] - coords[k-1][0]\n",
    "    dy = coords[k][1] - coords[k-1][1]\n",
    "    i,j = rot_centers[k][0],rot_centers[k][1]\n",
    "    if cmd == \"G1\":\n",
    "        line = \"G1 X{0:.4f} Y{1:.4f} F40\".format(dx,dy)\n",
    "    if cmd == \"G2\" or cmd == \"G3\":\n",
    "        line = \"{0} X{1:.4f} Y{2:.4f} I{3:.4f} J{4:.4f}\".format(cmd,dx,dy,i,j)\n",
    "    output.append(line)\n",
    "output.append(\"DISABLE X Y\")"
   ]
  },
  {
   "cell_type": "code",
   "execution_count": 51,
   "id": "b5ddcf9c",
   "metadata": {},
   "outputs": [],
   "source": [
    "fout = open(\"gcode/tube_path_relative.pgm\",\"w\")\n",
    "for l in output:\n",
    "    fout.write(l+\"\\n\")\n",
    "fout.close()"
   ]
  },
  {
   "cell_type": "code",
   "execution_count": 56,
   "id": "b20888a2",
   "metadata": {},
   "outputs": [],
   "source": [
    "rot_deg = 90\n",
    "rot = rot_deg*np.pi/180\n",
    "mtx = np.array([[np.cos(rot),-np.sin(rot)],[np.sin(rot),np.cos(rot)]])\n",
    "coords_rot = [np.dot(mtx,vec) for vec in coords]\n",
    "rot_centers_rot = [np.dot(mtx,vec) for vec in rot_centers]\n",
    "output_rot = [\"G91\",\"ENABLE X Y\",\"G16 X Y Z\",\"G17\"]\n",
    "for k in range(1,len(mvt_lines)):\n",
    "    l = mvt_lines[k]\n",
    "    cmd = commands[k]\n",
    "    dx = coords_rot[k][0] - coords_rot[k-1][0]\n",
    "    dy = coords_rot[k][1] - coords_rot[k-1][1]\n",
    "    i,j = rot_centers_rot[k][0],rot_centers_rot[k][1]\n",
    "    if cmd == \"G1\":\n",
    "        line = \"G1 X{0:.4f} Y{1:.4f} F40\".format(dx,dy)\n",
    "    if cmd == \"G2\" or cmd == \"G3\":\n",
    "        line = \"{0} X{1:.4f} Y{2:.4f} I{3:.4f} J{4:.4f}\".format(cmd,dx,dy,i,j)\n",
    "    output_rot.append(line)\n",
    "output_rot.append(\"DISABLE X Y\")"
   ]
  },
  {
   "cell_type": "code",
   "execution_count": 57,
   "id": "73ef14c0",
   "metadata": {},
   "outputs": [],
   "source": [
    "fout = open(\"gcode/tube_path_relative_rotate{0}.pgm\".format(rot_deg),\"w\")\n",
    "for l in output_rot:\n",
    "    fout.write(l+\"\\n\")\n",
    "fout.close()"
   ]
  },
  {
   "cell_type": "code",
   "execution_count": null,
   "id": "f03aadee",
   "metadata": {},
   "outputs": [],
   "source": []
  }
 ],
 "metadata": {
  "kernelspec": {
   "display_name": "Python 3",
   "language": "python",
   "name": "python3"
  },
  "language_info": {
   "codemirror_mode": {
    "name": "ipython",
    "version": 3
   },
   "file_extension": ".py",
   "mimetype": "text/x-python",
   "name": "python",
   "nbconvert_exporter": "python",
   "pygments_lexer": "ipython3",
   "version": "3.6.13"
  }
 },
 "nbformat": 4,
 "nbformat_minor": 5
}
