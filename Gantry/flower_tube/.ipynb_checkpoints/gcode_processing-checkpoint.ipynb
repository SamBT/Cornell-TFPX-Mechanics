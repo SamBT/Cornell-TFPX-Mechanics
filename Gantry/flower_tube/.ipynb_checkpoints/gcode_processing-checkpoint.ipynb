{
 "cells": [
  {
   "cell_type": "code",
   "execution_count": 2,
   "id": "9c9f4a56",
   "metadata": {},
   "outputs": [],
   "source": [
    "import numpy as np\n",
    "import re"
   ]
  },
  {
   "cell_type": "code",
   "execution_count": 28,
   "id": "fe15fad9",
   "metadata": {},
   "outputs": [],
   "source": [
    "rotations = [\"G2\",\"G3\"]\n",
    "linear = [\"G1\",\"G0\"]\n",
    "\n",
    "def extract_xy(cmd):\n",
    "    words = cmd.split(\" \")\n",
    "    x,y = None, None\n",
    "    for w in words:\n",
    "        if \"X\" in w:\n",
    "            x = float(w[1:])\n",
    "        if \"Y\" in w:\n",
    "            y = float(w[1:])\n",
    "    return x,y\n",
    "\n",
    "def extract_ij(cmd):\n",
    "    words = cmd.split(\" \")\n",
    "    i,j = None, None\n",
    "    for w in words:\n",
    "        if \"I\" in w:\n",
    "            i = float(w[1:])\n",
    "        if \"J\" in w:\n",
    "            j = float(w[1:])\n",
    "    return i,j"
   ]
  },
  {
   "cell_type": "code",
   "execution_count": 29,
   "id": "f8af1cc8",
   "metadata": {},
   "outputs": [],
   "source": [
    "f = open(\"gcode/tube_path_v2.pgm\",\"r\")\n",
    "lines = f.read().splitlines()\n",
    "f.close()\n",
    "\n",
    "preamble = []\n",
    "moves = []\n",
    "xs = [] \n",
    "ys = []\n",
    "ivals = []\n",
    "jvals = []\n",
    "for l in lines:\n",
    "    cmd = l.split(\" \")[0]\n",
    "    if cmd not in rotations+linear:\n",
    "        preamble.append(l)\n",
    "        continue\n",
    "    else:\n",
    "        x,y = extract_xy(l)\n",
    "        i,j = extract_ij(l)\n",
    "        moves.append(cmd)\n",
    "        xs.append(x)\n",
    "        ys.append(y)\n",
    "        ivals.append(i)\n",
    "        jvals.append(j)"
   ]
  },
  {
   "cell_type": "code",
   "execution_count": 33,
   "id": "4c107545",
   "metadata": {},
   "outputs": [
    {
     "data": {
      "text/plain": [
       "[147.532,\n",
       " None,\n",
       " 137.532,\n",
       " 127.535,\n",
       " 125.652,\n",
       " 110.278,\n",
       " 106.103,\n",
       " 99.544,\n",
       " 90.346,\n",
       " 90.532,\n",
       " 126.357,\n",
       " 121.579,\n",
       " 108.636,\n",
       " 68.739,\n",
       " 48.266,\n",
       " 45.316,\n",
       " 40.072,\n",
       " 35.504,\n",
       " 41.38,\n",
       " 103.418,\n",
       " 105.302,\n",
       " 91.976,\n",
       " 28.08,\n",
       " 7.368,\n",
       " 5.903,\n",
       " 3.388,\n",
       " 12.416,\n",
       " 14.895,\n",
       " 107.963,\n",
       " 118.506,\n",
       " 169.295,\n",
       " 187.71,\n",
       " 198.23,\n",
       " 291.419,\n",
       " 302.234,\n",
       " 304.737,\n",
       " 302.224,\n",
       " 294.593,\n",
       " 282.082,\n",
       " 209.391,\n",
       " 196.413,\n",
       " 200.524,\n",
       " 265.859,\n",
       " 270.898,\n",
       " 269.089,\n",
       " 263.08,\n",
       " 241.882,\n",
       " 239.696,\n",
       " 193.998,\n",
       " 180.095,\n",
       " 176.71,\n",
       " 212.526,\n",
       " 212.698,\n",
       " 203.43,\n",
       " 195.349,\n",
       " 176.563,\n",
       " 175.882,\n",
       " 175.532,\n",
       " 165.485,\n",
       " 155.532,\n",
       " None]"
      ]
     },
     "execution_count": 33,
     "metadata": {},
     "output_type": "execute_result"
    }
   ],
   "source": [
    "xs"
   ]
  },
  {
   "cell_type": "code",
   "execution_count": 37,
   "id": "8fae7bc6",
   "metadata": {
    "scrolled": true
   },
   "outputs": [
    {
     "name": "stdout",
     "output_type": "stream",
     "text": [
      "None\n"
     ]
    },
    {
     "ename": "TypeError",
     "evalue": "unsupported operand type(s) for -: 'NoneType' and 'int'",
     "output_type": "error",
     "traceback": [
      "\u001b[0;31m---------------------------------------------------------------------------\u001b[0m",
      "\u001b[0;31mTypeError\u001b[0m                                 Traceback (most recent call last)",
      "\u001b[0;32m<ipython-input-37-29927fa44a9e>\u001b[0m in \u001b[0;36m<module>\u001b[0;34m\u001b[0m\n\u001b[1;32m      4\u001b[0m     \u001b[0;32mif\u001b[0m \u001b[0mx\u001b[0m \u001b[0;34m==\u001b[0m \u001b[0;32mNone\u001b[0m\u001b[0;34m:\u001b[0m\u001b[0;34m\u001b[0m\u001b[0;34m\u001b[0m\u001b[0m\n\u001b[1;32m      5\u001b[0m         \u001b[0mprint\u001b[0m\u001b[0;34m(\u001b[0m\u001b[0mi\u001b[0m\u001b[0;34m)\u001b[0m\u001b[0;34m\u001b[0m\u001b[0;34m\u001b[0m\u001b[0m\n\u001b[0;32m----> 6\u001b[0;31m         \u001b[0mx\u001b[0m \u001b[0;34m=\u001b[0m \u001b[0mxs\u001b[0m\u001b[0;34m[\u001b[0m\u001b[0mi\u001b[0m\u001b[0;34m-\u001b[0m\u001b[0;36m1\u001b[0m\u001b[0;34m]\u001b[0m\u001b[0;34m\u001b[0m\u001b[0;34m\u001b[0m\u001b[0m\n\u001b[0m\u001b[1;32m      7\u001b[0m     \u001b[0;32mif\u001b[0m \u001b[0my\u001b[0m \u001b[0;34m==\u001b[0m \u001b[0;32mNone\u001b[0m\u001b[0;34m:\u001b[0m\u001b[0;34m\u001b[0m\u001b[0;34m\u001b[0m\u001b[0m\n\u001b[1;32m      8\u001b[0m         \u001b[0my\u001b[0m \u001b[0;34m=\u001b[0m \u001b[0mys\u001b[0m\u001b[0;34m[\u001b[0m\u001b[0mi\u001b[0m\u001b[0;34m-\u001b[0m\u001b[0;36m1\u001b[0m\u001b[0;34m]\u001b[0m\u001b[0;34m\u001b[0m\u001b[0;34m\u001b[0m\u001b[0m\n",
      "\u001b[0;31mTypeError\u001b[0m: unsupported operand type(s) for -: 'NoneType' and 'int'"
     ]
    }
   ],
   "source": [
    "new_moves = []\n",
    "for k in range(1,len(moves)):\n",
    "    mv,x,y,i,j = moves[i],xs[i],ys[i],ivals[i],jvals[i]\n",
    "    if x == None: \n",
    "        print(i)\n",
    "        x = xs[i-1]\n",
    "    if y == None:\n",
    "        y = ys[i-1]\n",
    "    dx = x - xs[i-1]\n",
    "    dy = y - ys[i-1]\n",
    "    if move in linear:\n",
    "        line = \"{0} X{1:.3f} Y{2:.3f}\".format(move,dx,dy)\n",
    "    else:\n",
    "        line = \"{0} X{1:.3f} Y{2:.3f} I{3:.3f} J{3:.3f}\".format(move,dx,dy,i,j)\n",
    "    new_moves.append(line)"
   ]
  },
  {
   "cell_type": "code",
   "execution_count": 62,
   "id": "4b4397a3",
   "metadata": {},
   "outputs": [],
   "source": [
    "f = open(\"gcode/tube_path_explicit.pgm\",\"r\")\n",
    "lines = f.read().splitlines()\n",
    "f.close()\n",
    "\n",
    "mvt_lines = []\n",
    "commands = []\n",
    "coords = []\n",
    "rot_centers = []\n",
    "for l in lines:\n",
    "    cmd = l.split(\" \")[0]\n",
    "    if cmd not in moves:\n",
    "        continue\n",
    "    commands.append(cmd)\n",
    "    mvt_lines.append(l)\n",
    "    x,y = extract_coords_2d(l)\n",
    "    if x == None and y != None:\n",
    "        x = coords[-1][0]\n",
    "    if x != None and y == None:\n",
    "        y = coords[-1][1]\n",
    "    coords.append([x,y])\n",
    "    i,j = extract_rotation_centers(l)\n",
    "    rot_centers.append([i,j])"
   ]
  },
  {
   "cell_type": "code",
   "execution_count": 63,
   "id": "a9ff79a3",
   "metadata": {},
   "outputs": [],
   "source": [
    "output = [\"G91\",\"ENABLE X Y\",\"G16 X Y Z\",\"G17\"]\n",
    "for k in range(1,len(mvt_lines)):\n",
    "    l = mvt_lines[k]\n",
    "    cmd = commands[k]\n",
    "    dx = coords[k][0] - coords[k-1][0]\n",
    "    dy = coords[k][1] - coords[k-1][1]\n",
    "    i,j = rot_centers[k][0],rot_centers[k][1]\n",
    "    if cmd == \"G1\":\n",
    "        line = \"G1 X{0:.4f} Y{1:.4f} F40\".format(dx,dy)\n",
    "    if cmd == \"G2\" or cmd == \"G3\":\n",
    "        line = \"{0} X{1:.4f} Y{2:.4f} I{3:.4f} J{4:.4f}\".format(cmd,dx,dy,i,j)\n",
    "    output.append(line)\n",
    "output.append(\"DISABLE X Y\")"
   ]
  },
  {
   "cell_type": "code",
   "execution_count": 64,
   "id": "b9179d37",
   "metadata": {},
   "outputs": [],
   "source": [
    "fout = open(\"gcode/tube_path_relative.pgm\",\"w\")\n",
    "for l in output:\n",
    "    fout.write(l+\"\\n\")\n",
    "fout.close()"
   ]
  },
  {
   "cell_type": "code",
   "execution_count": 65,
   "id": "8c51f67d",
   "metadata": {},
   "outputs": [],
   "source": [
    "rot_deg = 90\n",
    "rot = rot_deg*np.pi/180\n",
    "mtx = np.array([[np.cos(rot),-np.sin(rot)],[np.sin(rot),np.cos(rot)]])\n",
    "coords_rot = [np.dot(mtx,vec) for vec in coords]\n",
    "rot_centers_rot = [np.dot(mtx,vec) for vec in rot_centers]\n",
    "output_rot = [\"G91\",\"ENABLE X Y\",\"G16 X Y Z\",\"G17\"]\n",
    "for k in range(1,len(mvt_lines)):\n",
    "    l = mvt_lines[k]\n",
    "    cmd = commands[k]\n",
    "    dx = coords_rot[k][0] - coords_rot[k-1][0]\n",
    "    dy = coords_rot[k][1] - coords_rot[k-1][1]\n",
    "    i,j = rot_centers_rot[k][0],rot_centers_rot[k][1]\n",
    "    if cmd == \"G1\":\n",
    "        line = \"G1 X{0:.4f} Y{1:.4f} F40\".format(dx,dy)\n",
    "    if cmd == \"G2\" or cmd == \"G3\":\n",
    "        line = \"{0} X{1:.4f} Y{2:.4f} I{3:.4f} J{4:.4f}\".format(cmd,dx,dy,i,j)\n",
    "    output_rot.append(line)\n",
    "output_rot.append(\"DISABLE X Y\")"
   ]
  },
  {
   "cell_type": "code",
   "execution_count": 66,
   "id": "8e174c41",
   "metadata": {},
   "outputs": [],
   "source": [
    "fout = open(\"gcode/tube_path_relative_rotate{0}.pgm\".format(rot_deg),\"w\")\n",
    "for l in output_rot:\n",
    "    fout.write(l+\"\\n\")\n",
    "fout.close()"
   ]
  },
  {
   "cell_type": "code",
   "execution_count": null,
   "id": "e4180a12",
   "metadata": {},
   "outputs": [],
   "source": []
  }
 ],
 "metadata": {
  "kernelspec": {
   "display_name": "Python 3",
   "language": "python",
   "name": "python3"
  },
  "language_info": {
   "codemirror_mode": {
    "name": "ipython",
    "version": 3
   },
   "file_extension": ".py",
   "mimetype": "text/x-python",
   "name": "python",
   "nbconvert_exporter": "python",
   "pygments_lexer": "ipython3",
   "version": "3.6.13"
  }
 },
 "nbformat": 4,
 "nbformat_minor": 5
}
