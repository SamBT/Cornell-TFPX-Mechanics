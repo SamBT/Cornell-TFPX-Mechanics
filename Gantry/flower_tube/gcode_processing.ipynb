{
 "cells": [
  {
   "cell_type": "code",
   "execution_count": 9,
   "id": "90e36633",
   "metadata": {},
   "outputs": [],
   "source": [
    "import numpy as np"
   ]
  },
  {
   "cell_type": "code",
   "execution_count": 21,
   "id": "6402148c",
   "metadata": {},
   "outputs": [],
   "source": [
    "moves = [\"G1\",\"G2\",\"G3\"]\n",
    "\n",
    "def extract_coords_2d(cmd):\n",
    "    words = cmd.split(\" \")\n",
    "    x,y = None, None\n",
    "    for w in words:\n",
    "        if words[0] in moves:\n",
    "            if \"X\" in w:\n",
    "                x = float(w[1:])\n",
    "            if \"Y\" in w:\n",
    "                y = float(w[1:])\n",
    "    return (x,y)"
   ]
  },
  {
   "cell_type": "code",
   "execution_count": 31,
   "id": "338655bc",
   "metadata": {},
   "outputs": [],
   "source": [
    "f = open(\"gcode/tube_path_explicit.pgm\",\"r\")\n",
    "lines = f.read().splitlines()\n",
    "f.close()\n",
    "\n",
    "mvt_lines = []\n",
    "commands = []\n",
    "coords = []\n",
    "for l in lines:\n",
    "    cmd = l.split(\" \")[0]\n",
    "    if cmd not in moves:\n",
    "        continue\n",
    "    commands.append(cmd)\n",
    "    mvt_lines.append(l)\n",
    "    x,y = extract_coords_2d(l)\n",
    "    if x == None and y != None:\n",
    "        x = coords[-1][0]\n",
    "    if x != None and y == None:\n",
    "        y = coords[-1][1]\n",
    "    coords.append([x,y])"
   ]
  },
  {
   "cell_type": "code",
   "execution_count": 47,
   "id": "7936ba8a",
   "metadata": {},
   "outputs": [],
   "source": [
    "output = [\"G91\",\"ENABLE X Y\",\"G16 X Y Z\",\"G17\"]\n",
    "for k in range(1,len(mvt_lines)):\n",
    "    l = mvt_lines[k]\n",
    "    cmd = commands[k]\n",
    "    dx = coords[k][0] - coords[k-1][0]\n",
    "    dy = coords[k][1] - coords[k-1][1]\n",
    "    if cmd == \"G1\":\n",
    "        line = \"G1 X{0:.4f} Y{1:.4f} F40\".format(dx,dy)\n",
    "    if cmd == \"G2\" or cmd == \"G3\":\n",
    "        i,j = None, None\n",
    "        for w in l.split(\" \"):\n",
    "            if \"I\" in w:\n",
    "                i = w\n",
    "            if \"J\" in w:\n",
    "                j = w\n",
    "        line = \"{0} X{1:.4f} Y{2:.4f} {3} {4}\".format(cmd,dx,dy,i,j)\n",
    "    output.append(line)\n",
    "output.append(\"DISABLE X Y\")"
   ]
  },
  {
   "cell_type": "code",
   "execution_count": 51,
   "id": "2e9a8eba",
   "metadata": {},
   "outputs": [],
   "source": [
    "fout = open(\"gcode/tube_path_relative.pgm\",\"w\")\n",
    "for l in output:\n",
    "    fout.write(l+\"\\n\")\n",
    "fout.close()"
   ]
  },
  {
   "cell_type": "code",
   "execution_count": 30,
   "id": "c2a89f10",
   "metadata": {},
   "outputs": [
    {
     "data": {
      "text/plain": [
       "[1, 2, 3, 4]"
      ]
     },
     "execution_count": 30,
     "metadata": {},
     "output_type": "execute_result"
    }
   ],
   "source": [
    "k = [i for i in range(1,5)]\n",
    "k"
   ]
  },
  {
   "cell_type": "code",
   "execution_count": null,
   "id": "1e11f963",
   "metadata": {},
   "outputs": [],
   "source": []
  }
 ],
 "metadata": {
  "kernelspec": {
   "display_name": "Python 3",
   "language": "python",
   "name": "python3"
  },
  "language_info": {
   "codemirror_mode": {
    "name": "ipython",
    "version": 3
   },
   "file_extension": ".py",
   "mimetype": "text/x-python",
   "name": "python",
   "nbconvert_exporter": "python",
   "pygments_lexer": "ipython3",
   "version": "3.6.13"
  }
 },
 "nbformat": 4,
 "nbformat_minor": 5
}
