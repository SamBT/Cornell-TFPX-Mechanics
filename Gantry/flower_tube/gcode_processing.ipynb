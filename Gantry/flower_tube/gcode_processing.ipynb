{
 "cells": [
  {
   "cell_type": "code",
   "execution_count": 2,
   "id": "9c9f4a56",
   "metadata": {},
   "outputs": [],
   "source": [
    "import numpy as np\n",
    "import re"
   ]
  },
  {
   "cell_type": "code",
   "execution_count": 28,
   "id": "fe15fad9",
   "metadata": {},
   "outputs": [],
   "source": [
    "rotations = [\"G2\",\"G3\"]\n",
    "linear = [\"G1\",\"G0\"]\n",
    "\n",
    "def extract_xy(cmd):\n",
    "    words = cmd.split(\" \")\n",
    "    x,y = None, None\n",
    "    for w in words:\n",
    "        if \"X\" in w:\n",
    "            x = float(w[1:])\n",
    "        if \"Y\" in w:\n",
    "            y = float(w[1:])\n",
    "    return x,y\n",
    "\n",
    "def extract_ij(cmd):\n",
    "    words = cmd.split(\" \")\n",
    "    i,j = None, None\n",
    "    for w in words:\n",
    "        if \"I\" in w:\n",
    "            i = float(w[1:])\n",
    "        if \"J\" in w:\n",
    "            j = float(w[1:])\n",
    "    return i,j"
   ]
  },
  {
   "cell_type": "code",
   "execution_count": 42,
   "id": "84d6a2da",
   "metadata": {},
   "outputs": [],
   "source": [
    "f = open(\"gcode/tube_path_v2.pgm\",\"r\")\n",
    "lines = f.read().splitlines()\n",
    "f.close()\n",
    "\n",
    "preamble = []\n",
    "moves = []\n",
    "xs = [] \n",
    "ys = []\n",
    "ivals = []\n",
    "jvals = []\n",
    "for l in lines:\n",
    "    cmd = l.split(\" \")[0]\n",
    "    if cmd not in rotations+linear:\n",
    "        preamble.append(l)\n",
    "        continue\n",
    "    else:\n",
    "        x,y = extract_xy(l)\n",
    "        i,j = extract_ij(l)\n",
    "        if x == None:\n",
    "            x = xs[-1]\n",
    "        if y == None:\n",
    "            y = ys[-1]\n",
    "        moves.append(cmd)\n",
    "        xs.append(x)\n",
    "        ys.append(y)\n",
    "        ivals.append(i)\n",
    "        jvals.append(j)"
   ]
  },
  {
   "cell_type": "code",
   "execution_count": 44,
   "id": "e6734266",
   "metadata": {
    "scrolled": true
   },
   "outputs": [],
   "source": [
    "new_moves = []\n",
    "for k in range(1,len(moves)):\n",
    "    mv,x,y,i,j = moves[k],xs[k],ys[k],ivals[k],jvals[k]\n",
    "    if x == None: \n",
    "        x = xs[k-1]\n",
    "    if y == None:\n",
    "        y = ys[k-1]\n",
    "    dx = x - xs[k-1]\n",
    "    dy = y - ys[k-1]\n",
    "    if mv in linear:\n",
    "        line = \"{0} X{1:.3f} Y{2:.3f}\".format(mv,dx,dy)\n",
    "    else:\n",
    "        line = \"{0} X{1:.3f} Y{2:.3f} I{3:.3f} J{3:.3f}\".format(mv,dx,dy,i,j)\n",
    "    new_moves.append(line)"
   ]
  },
  {
   "cell_type": "code",
   "execution_count": 46,
   "id": "1b040608",
   "metadata": {},
   "outputs": [],
   "source": [
    "new_output = preamble+new_moves\n",
    "fout = open(\"gcode/tube_path_relative_v2.pgm\",\"w\")\n",
    "for l in new_output:\n",
    "    if l == \"G90\":\n",
    "        l = \"G91\"\n",
    "    fout.write(l+\"\\n\")\n",
    "fout.close()"
   ]
  },
  {
   "cell_type": "code",
   "execution_count": 41,
   "id": "4b4397a3",
   "metadata": {},
   "outputs": [
    {
     "ename": "NameError",
     "evalue": "name 'extract_coords_2d' is not defined",
     "output_type": "error",
     "traceback": [
      "\u001b[0;31m---------------------------------------------------------------------------\u001b[0m",
      "\u001b[0;31mNameError\u001b[0m                                 Traceback (most recent call last)",
      "\u001b[0;32m<ipython-input-41-3e3c194a18de>\u001b[0m in \u001b[0;36m<module>\u001b[0;34m\u001b[0m\n\u001b[1;32m     13\u001b[0m     \u001b[0mcommands\u001b[0m\u001b[0;34m.\u001b[0m\u001b[0mappend\u001b[0m\u001b[0;34m(\u001b[0m\u001b[0mcmd\u001b[0m\u001b[0;34m)\u001b[0m\u001b[0;34m\u001b[0m\u001b[0;34m\u001b[0m\u001b[0m\n\u001b[1;32m     14\u001b[0m     \u001b[0mmvt_lines\u001b[0m\u001b[0;34m.\u001b[0m\u001b[0mappend\u001b[0m\u001b[0;34m(\u001b[0m\u001b[0ml\u001b[0m\u001b[0;34m)\u001b[0m\u001b[0;34m\u001b[0m\u001b[0;34m\u001b[0m\u001b[0m\n\u001b[0;32m---> 15\u001b[0;31m     \u001b[0mx\u001b[0m\u001b[0;34m,\u001b[0m\u001b[0my\u001b[0m \u001b[0;34m=\u001b[0m \u001b[0mextract_coords_2d\u001b[0m\u001b[0;34m(\u001b[0m\u001b[0ml\u001b[0m\u001b[0;34m)\u001b[0m\u001b[0;34m\u001b[0m\u001b[0;34m\u001b[0m\u001b[0m\n\u001b[0m\u001b[1;32m     16\u001b[0m     \u001b[0;32mif\u001b[0m \u001b[0mx\u001b[0m \u001b[0;34m==\u001b[0m \u001b[0;32mNone\u001b[0m \u001b[0;32mand\u001b[0m \u001b[0my\u001b[0m \u001b[0;34m!=\u001b[0m \u001b[0;32mNone\u001b[0m\u001b[0;34m:\u001b[0m\u001b[0;34m\u001b[0m\u001b[0;34m\u001b[0m\u001b[0m\n\u001b[1;32m     17\u001b[0m         \u001b[0mx\u001b[0m \u001b[0;34m=\u001b[0m \u001b[0mcoords\u001b[0m\u001b[0;34m[\u001b[0m\u001b[0;34m-\u001b[0m\u001b[0;36m1\u001b[0m\u001b[0;34m]\u001b[0m\u001b[0;34m[\u001b[0m\u001b[0;36m0\u001b[0m\u001b[0;34m]\u001b[0m\u001b[0;34m\u001b[0m\u001b[0;34m\u001b[0m\u001b[0m\n",
      "\u001b[0;31mNameError\u001b[0m: name 'extract_coords_2d' is not defined"
     ]
    }
   ],
   "source": [
    "f = open(\"gcode/tube_path_explicit.pgm\",\"r\")\n",
    "lines = f.read().splitlines()\n",
    "f.close()\n",
    "\n",
    "mvt_lines = []\n",
    "commands = []\n",
    "coords = []\n",
    "rot_centers = []\n",
    "for l in lines:\n",
    "    cmd = l.split(\" \")[0]\n",
    "    if cmd not in moves:\n",
    "        continue\n",
    "    commands.append(cmd)\n",
    "    mvt_lines.append(l)\n",
    "    x,y = extract_coords_2d(l)\n",
    "    if x == None and y != None:\n",
    "        x = coords[-1][0]\n",
    "    if x != None and y == None:\n",
    "        y = coords[-1][1]\n",
    "    coords.append([x,y])\n",
    "    i,j = extract_rotation_centers(l)\n",
    "    rot_centers.append([i,j])"
   ]
  },
  {
   "cell_type": "code",
   "execution_count": 63,
   "id": "a9ff79a3",
   "metadata": {},
   "outputs": [],
   "source": [
    "output = [\"G91\",\"ENABLE X Y\",\"G16 X Y Z\",\"G17\"]\n",
    "for k in range(1,len(mvt_lines)):\n",
    "    l = mvt_lines[k]\n",
    "    cmd = commands[k]\n",
    "    dx = coords[k][0] - coords[k-1][0]\n",
    "    dy = coords[k][1] - coords[k-1][1]\n",
    "    i,j = rot_centers[k][0],rot_centers[k][1]\n",
    "    if cmd == \"G1\":\n",
    "        line = \"G1 X{0:.4f} Y{1:.4f} F40\".format(dx,dy)\n",
    "    if cmd == \"G2\" or cmd == \"G3\":\n",
    "        line = \"{0} X{1:.4f} Y{2:.4f} I{3:.4f} J{4:.4f}\".format(cmd,dx,dy,i,j)\n",
    "    output.append(line)\n",
    "output.append(\"DISABLE X Y\")"
   ]
  },
  {
   "cell_type": "code",
   "execution_count": 64,
   "id": "b9179d37",
   "metadata": {},
   "outputs": [],
   "source": [
    "fout = open(\"gcode/tube_path_relative.pgm\",\"w\")\n",
    "for l in output:\n",
    "    fout.write(l+\"\\n\")\n",
    "fout.close()"
   ]
  },
  {
   "cell_type": "code",
   "execution_count": 65,
   "id": "8c51f67d",
   "metadata": {},
   "outputs": [],
   "source": [
    "rot_deg = 90\n",
    "rot = rot_deg*np.pi/180\n",
    "mtx = np.array([[np.cos(rot),-np.sin(rot)],[np.sin(rot),np.cos(rot)]])\n",
    "coords_rot = [np.dot(mtx,vec) for vec in coords]\n",
    "rot_centers_rot = [np.dot(mtx,vec) for vec in rot_centers]\n",
    "output_rot = [\"G91\",\"ENABLE X Y\",\"G16 X Y Z\",\"G17\"]\n",
    "for k in range(1,len(mvt_lines)):\n",
    "    l = mvt_lines[k]\n",
    "    cmd = commands[k]\n",
    "    dx = coords_rot[k][0] - coords_rot[k-1][0]\n",
    "    dy = coords_rot[k][1] - coords_rot[k-1][1]\n",
    "    i,j = rot_centers_rot[k][0],rot_centers_rot[k][1]\n",
    "    if cmd == \"G1\":\n",
    "        line = \"G1 X{0:.4f} Y{1:.4f} F40\".format(dx,dy)\n",
    "    if cmd == \"G2\" or cmd == \"G3\":\n",
    "        line = \"{0} X{1:.4f} Y{2:.4f} I{3:.4f} J{4:.4f}\".format(cmd,dx,dy,i,j)\n",
    "    output_rot.append(line)\n",
    "output_rot.append(\"DISABLE X Y\")"
   ]
  },
  {
   "cell_type": "code",
   "execution_count": 66,
   "id": "8e174c41",
   "metadata": {},
   "outputs": [],
   "source": [
    "fout = open(\"gcode/tube_path_relative_rotate{0}.pgm\".format(rot_deg),\"w\")\n",
    "for l in output_rot:\n",
    "    fout.write(l+\"\\n\")\n",
    "fout.close()"
   ]
  },
  {
   "cell_type": "code",
   "execution_count": null,
   "id": "e4180a12",
   "metadata": {},
   "outputs": [],
   "source": []
  }
 ],
 "metadata": {
  "kernelspec": {
   "display_name": "Python 3",
   "language": "python",
   "name": "python3"
  },
  "language_info": {
   "codemirror_mode": {
    "name": "ipython",
    "version": 3
   },
   "file_extension": ".py",
   "mimetype": "text/x-python",
   "name": "python",
   "nbconvert_exporter": "python",
   "pygments_lexer": "ipython3",
   "version": "3.6.13"
  }
 },
 "nbformat": 4,
 "nbformat_minor": 5
}
